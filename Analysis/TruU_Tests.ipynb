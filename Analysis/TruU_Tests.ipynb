{
 "cells": [
  {
   "cell_type": "code",
   "execution_count": 1,
   "id": "92542ea5",
   "metadata": {},
   "outputs": [],
   "source": [
    "from gzip import open as gzipOpen\n",
    "import os\n",
    "import matplotlib.pylab as plt\n",
    "import numpy as np\n",
    "import pandas as pd\n",
    "import matplotlib\n",
    "from tarfile import open as tarOpen"
   ]
  },
  {
   "cell_type": "code",
   "execution_count": 2,
   "id": "f66093fa",
   "metadata": {
    "scrolled": true
   },
   "outputs": [
    {
     "name": "stdout",
     "output_type": "stream",
     "text": [
      "['.DS_Store', 'smni_eeg_data', 'smni_eeg_data.tar']\n"
     ]
    }
   ],
   "source": [
    "# Specify the path to your data repository\n",
    "path_root = \"../Data/\"\n",
    "print(os.listdir(path_root))"
   ]
  },
  {
   "cell_type": "code",
   "execution_count": 12,
   "id": "a5a6818c",
   "metadata": {},
   "outputs": [],
   "source": [
    "# Select the dataset which you want to extract from the previous list\n",
    "name_dataTar = os.listdir(path_root)[1]"
   ]
  },
  {
   "cell_type": "code",
   "execution_count": 13,
   "id": "a78b2464",
   "metadata": {},
   "outputs": [],
   "source": [
    "def extTargzFiles(name_dataTar, path_root = \"../Data\"):\n",
    "    \n",
    "    # Conditions on name_dataTar in case a mistake mas made\n",
    "    if name_dataTar not in os.listdir(path_root):\n",
    "        print(\"ERROR: Please choose a comprassed file located in your data folder\")\n",
    "        return\n",
    "    if not name_dataTar.endswith(\".tar\"):\n",
    "        if (name_dataTar + \".tar\") in os.listdir(path_root):\n",
    "            name_dataTar += \".tar\"\n",
    "        else:\n",
    "            print(\"ERROR: The specified folder does not correspond to any compressed folder in the repo.\\nPlease select another one.\")\n",
    "            return\n",
    "    \n",
    "    # Define path to tar.gz folder\n",
    "    path_folderTar = path_root + \"/\" + name_dataTar\n",
    "    path_folder    = path_folderTar[:-4]\n",
    "    \n",
    "    # Check if folder has not already been extracted\n",
    "    # If so, move to next layer\n",
    "    if name_dataTar[:-4] not in os.listdir(path_root):\n",
    "        tar = tarOpen(path_folderTar, \"r:\")\n",
    "        tar.extractall(path_root)\n",
    "        tar.close()\n",
    "        \n",
    "    # Next layer: do the same check as above\n",
    "    name_folders = os.listdir(path_folder)\n",
    "\n",
    "    for folder in name_folders:\n",
    "        if folder.endswith(\".tar.gz\") and (folder[:-4] not in name_folders):\n",
    "            tar = tarOpen(path_folder + \"/\" + folder, \"r:gz\")\n",
    "            tar.extractall(path_folder)\n",
    "            tar.close()\n",
    "            \n",
    "    print(\"All remaining compressed folders have been uncompressed!\")\n",
    "        \n",
    "    return"
   ]
  },
  {
   "cell_type": "code",
   "execution_count": 14,
   "id": "fb7a26d8",
   "metadata": {},
   "outputs": [
    {
     "name": "stdout",
     "output_type": "stream",
     "text": [
      "All remaining compressed folders have been uncompressed!\n"
     ]
    }
   ],
   "source": [
    "extTargzFiles(name_dataTar)"
   ]
  },
  {
   "cell_type": "code",
   "execution_count": 16,
   "id": "b83c2366",
   "metadata": {
    "scrolled": true
   },
   "outputs": [
    {
     "name": "stdout",
     "output_type": "stream",
     "text": [
      "['../Data/smni_eeg_data/a_1_co2a0000364/co2a0000364.rd.028.gz', '../Data/smni_eeg_data/a_1_co2a0000364/co2a0000364.rd.018.gz', '../Data/smni_eeg_data/a_1_co2a0000364/co2a0000364.rd.022.gz', '../Data/smni_eeg_data/a_1_co2a0000364/co2a0000364.rd.012.gz', '../Data/smni_eeg_data/a_1_co2a0000364/co2a0000364.rd.002.gz', '../Data/smni_eeg_data/a_1_co2a0000364/co2a0000364.rd.010.gz', '../Data/smni_eeg_data/a_1_co2a0000364/co2a0000364.rd.024.gz', '../Data/smni_eeg_data/a_1_co2a0000364/co2a0000364.rd.000.gz', '../Data/smni_eeg_data/a_1_co2a0000364/co2a0000364.rd.020.gz', '../Data/smni_eeg_data/a_1_co2a0000364/co2a0000364.rd.014.gz']\n"
     ]
    }
   ],
   "source": [
    "# Save all .gz files in a list\n",
    "list_gzFiles = []\n",
    "\n",
    "for root, _, files in os.walk(path_root, topdown=False):\n",
    "    for name in files:\n",
    "        if name.endswith(\".gz\") and not name.endswith(\"tar.gz\"):\n",
    "            list_gzFiles.append(os.path.join(root, name))\n",
    "            \n",
    "print(list_gzFiles[:10])"
   ]
  },
  {
   "cell_type": "code",
   "execution_count": 17,
   "id": "16e9f0e8",
   "metadata": {},
   "outputs": [],
   "source": [
    "def import_eeg_file(file_obj, df_type='long', optimize=True):\n",
    "\n",
    "    def parse_subject(line):\n",
    "       return line[2:-4]\n",
    "\n",
    "    def parse_alcoholic(line):\n",
    "       char = line.strip('# ')[3]\n",
    "       return True if char == 'a' else False\n",
    "\n",
    "    def parse_obj(line):\n",
    "       char = line.strip('# ')[1]\n",
    "       return True if char == '1' else False\n",
    "\n",
    "    def parse_match(line):\n",
    "       string = line.strip('# ').split(',')[0].split(' ')[1]\n",
    "       if string == 'nomatch':\n",
    "           return 'nomatch'\n",
    "       elif string == 'obj':\n",
    "           return 'obj'\n",
    "       elif string == 'match':\n",
    "           return 'match'\n",
    "\n",
    "    def parse_err(line):\n",
    "       strings = line.strip('# ').split(',')[0].split(' ')\n",
    "       if len(strings) == 3 and strings[2] == 'err':\n",
    "           return True\n",
    "       else:\n",
    "           return False\n",
    "\n",
    "    from io import TextIOWrapper\n",
    "    if isinstance(file_obj, TextIOWrapper):\n",
    "       text_obj = file_obj\n",
    "    else:\n",
    "       text_obj = TextIOWrapper(file_obj)\n",
    "\n",
    "    header = []\n",
    "    loc = None\n",
    "    while True:\n",
    "       loc = text_obj.tell()\n",
    "       newline = text_obj.readline()\n",
    "       if newline[0] == \"#\":\n",
    "           header += [newline]\n",
    "       else:\n",
    "           text_obj.seek(loc)\n",
    "           break\n",
    "\n",
    "    subject = parse_subject(header[0])\n",
    "    alcoholic = parse_alcoholic(header[0])\n",
    "    obj = parse_obj(header[3])\n",
    "    match = parse_match(header[3])\n",
    "    err = parse_err(header[3])\n",
    "\n",
    "    df = pd.read_csv(text_obj, sep=' ', header=None, names=['trial','sensor','sample','value'], comment='#')\n",
    "    df['alcoholic'] = alcoholic\n",
    "    df['object'] = obj\n",
    "    df['match'] = match\n",
    "    df['err'] = err\n",
    "    df['subject'] = subject\n",
    "\n",
    "    df = df[['subject','trial','alcoholic','match','err','sensor','sample','value']]\n",
    "\n",
    "    if optimize:\n",
    "       df[['trial','sample']] = df[['trial','sample']].apply(pd.to_numeric, downcast='unsigned')\n",
    "       df['value'] = df['value'].astype(np.float32)\n",
    "       df['sensor'] = pd.Categorical(df['sensor'])\n",
    "       df['match'] = pd.Categorical(df['match'])\n",
    "       df['subject'] = pd.Categorical(df['subject'])\n",
    "\n",
    "    if df_type == 'wide':\n",
    "       df = df.pivot_table(values='value', index='sample', columns=['subject','trial','alcoholic','match','err','sensor'])\n",
    "\n",
    "    if df_type == 'long':\n",
    "       df = df.set_index(['subject','trial','alcoholic','match','err','sample'])\n",
    "\n",
    "    return df"
   ]
  },
  {
   "cell_type": "code",
   "execution_count": 18,
   "id": "c5aa7e9b",
   "metadata": {},
   "outputs": [],
   "source": [
    "# Open all .gz files\n",
    "import gzip\n",
    "\n",
    "# Import all EEGs into data frames and save them in a list\n",
    "list_dfEEGs = []\n",
    "for path_EEG in list_gzFiles:\n",
    "    file_EEG = gzipOpen(path_EEG, 'rb')\n",
    "    list_dfEEGs.append(import_eeg_file(file_EEG, df_type='long', optimize=True))"
   ]
  },
  {
   "cell_type": "code",
   "execution_count": 19,
   "id": "65bff745",
   "metadata": {},
   "outputs": [
    {
     "data": {
      "text/html": [
       "<div>\n",
       "<style scoped>\n",
       "    .dataframe tbody tr th:only-of-type {\n",
       "        vertical-align: middle;\n",
       "    }\n",
       "\n",
       "    .dataframe tbody tr th {\n",
       "        vertical-align: top;\n",
       "    }\n",
       "\n",
       "    .dataframe thead th {\n",
       "        text-align: right;\n",
       "    }\n",
       "</style>\n",
       "<table border=\"1\" class=\"dataframe\">\n",
       "  <thead>\n",
       "    <tr style=\"text-align: right;\">\n",
       "      <th></th>\n",
       "      <th></th>\n",
       "      <th></th>\n",
       "      <th></th>\n",
       "      <th></th>\n",
       "      <th></th>\n",
       "      <th>sensor</th>\n",
       "      <th>value</th>\n",
       "    </tr>\n",
       "    <tr>\n",
       "      <th>subject</th>\n",
       "      <th>trial</th>\n",
       "      <th>alcoholic</th>\n",
       "      <th>match</th>\n",
       "      <th>err</th>\n",
       "      <th>sample</th>\n",
       "      <th></th>\n",
       "      <th></th>\n",
       "    </tr>\n",
       "  </thead>\n",
       "  <tbody>\n",
       "    <tr>\n",
       "      <th rowspan=\"10\" valign=\"top\">co2a0000364</th>\n",
       "      <th rowspan=\"10\" valign=\"top\">18</th>\n",
       "      <th rowspan=\"10\" valign=\"top\">True</th>\n",
       "      <th rowspan=\"10\" valign=\"top\">obj</th>\n",
       "      <th rowspan=\"10\" valign=\"top\">False</th>\n",
       "      <th>0</th>\n",
       "      <td>FP1</td>\n",
       "      <td>11.434</td>\n",
       "    </tr>\n",
       "    <tr>\n",
       "      <th>1</th>\n",
       "      <td>FP1</td>\n",
       "      <td>9.481</td>\n",
       "    </tr>\n",
       "    <tr>\n",
       "      <th>2</th>\n",
       "      <td>FP1</td>\n",
       "      <td>6.551</td>\n",
       "    </tr>\n",
       "    <tr>\n",
       "      <th>3</th>\n",
       "      <td>FP1</td>\n",
       "      <td>3.133</td>\n",
       "    </tr>\n",
       "    <tr>\n",
       "      <th>4</th>\n",
       "      <td>FP1</td>\n",
       "      <td>1.180</td>\n",
       "    </tr>\n",
       "    <tr>\n",
       "      <th>5</th>\n",
       "      <td>FP1</td>\n",
       "      <td>1.180</td>\n",
       "    </tr>\n",
       "    <tr>\n",
       "      <th>6</th>\n",
       "      <td>FP1</td>\n",
       "      <td>1.668</td>\n",
       "    </tr>\n",
       "    <tr>\n",
       "      <th>7</th>\n",
       "      <td>FP1</td>\n",
       "      <td>2.157</td>\n",
       "    </tr>\n",
       "    <tr>\n",
       "      <th>8</th>\n",
       "      <td>FP1</td>\n",
       "      <td>2.645</td>\n",
       "    </tr>\n",
       "    <tr>\n",
       "      <th>9</th>\n",
       "      <td>FP1</td>\n",
       "      <td>4.110</td>\n",
       "    </tr>\n",
       "  </tbody>\n",
       "</table>\n",
       "</div>"
      ],
      "text/plain": [
       "                                               sensor   value\n",
       "subject     trial alcoholic match err   sample               \n",
       "co2a0000364 18    True      obj   False 0         FP1  11.434\n",
       "                                        1         FP1   9.481\n",
       "                                        2         FP1   6.551\n",
       "                                        3         FP1   3.133\n",
       "                                        4         FP1   1.180\n",
       "                                        5         FP1   1.180\n",
       "                                        6         FP1   1.668\n",
       "                                        7         FP1   2.157\n",
       "                                        8         FP1   2.645\n",
       "                                        9         FP1   4.110"
      ]
     },
     "execution_count": 19,
     "metadata": {},
     "output_type": "execute_result"
    }
   ],
   "source": [
    "list_dfEEGs[1].head(10)"
   ]
  },
  {
   "cell_type": "code",
   "execution_count": null,
   "id": "9316eca2",
   "metadata": {},
   "outputs": [],
   "source": []
  }
 ],
 "metadata": {
  "kernelspec": {
   "display_name": "Python 3",
   "language": "python",
   "name": "python3"
  },
  "language_info": {
   "codemirror_mode": {
    "name": "ipython",
    "version": 3
   },
   "file_extension": ".py",
   "mimetype": "text/x-python",
   "name": "python",
   "nbconvert_exporter": "python",
   "pygments_lexer": "ipython3",
   "version": "3.6.13"
  }
 },
 "nbformat": 4,
 "nbformat_minor": 5
}
